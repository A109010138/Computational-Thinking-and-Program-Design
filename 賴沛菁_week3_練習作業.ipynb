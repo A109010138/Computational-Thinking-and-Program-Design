{
  "nbformat": 4,
  "nbformat_minor": 0,
  "metadata": {
    "colab": {
      "name": "賴沛菁-week3-練習作業.ipynb",
      "provenance": [],
      "authorship_tag": "ABX9TyOo2jkOHJH6bYzPoIm5VLvs",
      "include_colab_link": true
    },
    "kernelspec": {
      "name": "python3",
      "display_name": "Python 3"
    }
  },
  "cells": [
    {
      "cell_type": "markdown",
      "metadata": {
        "id": "view-in-github",
        "colab_type": "text"
      },
      "source": [
        "<a href=\"https://colab.research.google.com/github/A109010138/Computational-Thinking-and-Program-Design/blob/main/%E8%B3%B4%E6%B2%9B%E8%8F%81_week3_%E7%B7%B4%E7%BF%92%E4%BD%9C%E6%A5%AD.ipynb\" target=\"_parent\"><img src=\"https://colab.research.google.com/assets/colab-badge.svg\" alt=\"Open In Colab\"/></a>"
      ]
    },
    {
      "cell_type": "code",
      "metadata": {
        "id": "CTcZ50CqLG_O"
      },
      "source": [
        ""
      ],
      "execution_count": null,
      "outputs": []
    },
    {
      "cell_type": "markdown",
      "metadata": {
        "id": "vtcF1ORyNAqy"
      },
      "source": [
        "#隨堂練習"
      ]
    },
    {
      "cell_type": "code",
      "metadata": {
        "id": "q35EW8MuOCRz"
      },
      "source": [
        "print(1+1)"
      ],
      "execution_count": null,
      "outputs": []
    },
    {
      "cell_type": "markdown",
      "metadata": {
        "id": "7rCSLF-ANQu5"
      },
      "source": [
        ""
      ]
    },
    {
      "cell_type": "markdown",
      "metadata": {
        "id": "6oG1YUlvNLXi"
      },
      "source": [
        "#課後作業\r\n",
        "從一則新聞報導，提出你對新聞系（OO系）學生為什麼要學「運算思維與程式設計」的見解。（告訴我新聞連結，以及你的觀點即可。）"
      ]
    },
    {
      "cell_type": "code",
      "metadata": {
        "id": "PeNWahQHOkfy"
      },
      "source": [
        ""
      ],
      "execution_count": null,
      "outputs": []
    },
    {
      "cell_type": "markdown",
      "metadata": {
        "id": "ZPovRE5ZNdvp"
      },
      "source": [
        "新聞連結:https://www.cw.com.tw/article/5080736\r\n",
        "寫程式的目的是解決問題，也是訓練學生理解問題、解構問題、尋求解決方案、以及不斷試驗改進的最好模式。在學習程式的過程中，學生一定會碰到很多問題（Bugs），也可以訓練他們如何有效去找資料、去跟網路上的專家/程式人員溝通、自主思考、或是經由團隊的密切合作來完成一個解決方案。對新聞系學生而言累積解決問題的經驗與能力是很重要的，新聞隨時充滿許多突發狀況，我們必須要具備經驗與冷靜應對。簡單的軟體工具應用也是媒體人必備的能力，例如在Excel中用Macro語言來計算財務模型，或是架設基本的網站網頁。\r\n",
        "\r\n"
      ]
    }
  ]
}