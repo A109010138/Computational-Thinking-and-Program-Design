{
  "nbformat": 4,
  "nbformat_minor": 0,
  "metadata": {
    "colab": {
      "name": "賴沛菁_WEEK14_隨堂練習.ipynb",
      "provenance": [],
      "authorship_tag": "ABX9TyOaTO3yh/Y/zB7ta65VXw6F",
      "include_colab_link": true
    },
    "kernelspec": {
      "name": "python3",
      "display_name": "Python 3"
    },
    "language_info": {
      "name": "python"
    }
  },
  "cells": [
    {
      "cell_type": "markdown",
      "metadata": {
        "id": "view-in-github",
        "colab_type": "text"
      },
      "source": [
        "<a href=\"https://colab.research.google.com/github/A109010138/Computational-Thinking-and-Program-Design/blob/main/%E8%B3%B4%E6%B2%9B%E8%8F%81_WEEK14_%E9%9A%A8%E5%A0%82%E7%B7%B4%E7%BF%92.ipynb\" target=\"_parent\"><img src=\"https://colab.research.google.com/assets/colab-badge.svg\" alt=\"Open In Colab\"/></a>"
      ]
    },
    {
      "cell_type": "code",
      "metadata": {
        "id": "DAJMpO9uxFsE"
      },
      "source": [
        "練習5 體溫與發燒\n",
        "\n",
        "設計程式根據體溫判斷是否發燒，由使用者輸入體溫，程式判斷是否發燒，假設體溫小於36度，顯示「體溫過低」，體溫大於等於36度小於38度，顯示「體溫正常」，否則若體溫大於等於38度小於39度，顯示「體溫有點燒」，否則體溫大於等於39度，顯示「體溫很燒」。\n",
        "\n",
        "輸入體溫「36.5」，輸出為「體溫正常」。\n",
        "\n",
        "～程式執行結果如下。\n",
        "\n",
        "請輸入體溫？36.5\n",
        "\n",
        "體溫正常"
      ],
      "execution_count": null,
      "outputs": []
    },
    {
      "cell_type": "code",
      "metadata": {
        "id": "IHzpnvRjy9D9"
      },
      "source": [
        "tem = float(input(\"your temperature?\"))\n",
        "\n",
        "if tem < 36:\n",
        "  print(\"Too low\")\n",
        "\n",
        "elif tem < 38:\n",
        "  print(\"Normal\")\n",
        "\n",
        "elif tem < 39:\n",
        "  print(\"Hight\")\n",
        "  \n",
        "else:\n",
        "  print(\"HOT\")\n"
      ],
      "execution_count": null,
      "outputs": []
    },
    {
      "cell_type": "markdown",
      "metadata": {
        "id": "VY-pVELVzBL-"
      },
      "source": [
        "練習6 閏年判斷\n",
        "\n",
        "設計程式允許輸入西元幾年，請求出該年是否是閏年，閏年表示該年多一天，若為4的倍數稱做閏年，但若為100的倍數就不為閏年，且若為400倍數又是閏年。(四年一潤、百年不潤、四百年再潤)\n",
        "\n",
        "輸入年份「2012」，輸出為「2012是閏年」。\n",
        "\n",
        "～程式執行結果如下。\n",
        "\n",
        "請輸入年份？2012\n",
        "\n",
        "2012 是閏年"
      ]
    },
    {
      "cell_type": "code",
      "metadata": {
        "id": "WhSq62rdzFQ9"
      },
      "source": [
        "if ((year%400)) == 0):\n",
        "    print(year,\"是閏年\")\n",
        "elif ((year % 100) == 0):\n",
        "    print(year,\"不是閏年\")\n",
        "elif((year % 4) == 0):\n",
        "    print(year,\"是閏年\")\n",
        "else:\n",
        "    print(year,\"不是閏年\")"
      ],
      "execution_count": null,
      "outputs": []
    },
    {
      "cell_type": "markdown",
      "metadata": {
        "id": "xws_YeNJzIyl"
      },
      "source": [
        "練習12：計程車計費\n",
        "\n",
        "某城市計程車計費3公里以內6元，超過3公里不足10公里、每公里1.8元，超過10公里則超過部分加收50%。此外停車等候每3分鐘收1元，請用Python寫出車費是多少。"
      ]
    },
    {
      "cell_type": "code",
      "metadata": {
        "id": "15yXGb4b2EoT"
      },
      "source": [
        "if lengh >=10:\n",
        "    feight =6 +(10-3)*1.8+(lengh-10)*1.8*1.5\n",
        "elif lenght >=3:\n",
        "    feight =6+(lengh - 3)*1.8\n",
        "else:\n",
        "    feight = 6"
      ],
      "execution_count": null,
      "outputs": []
    },
    {
      "cell_type": "markdown",
      "metadata": {
        "id": "fC1jvfJ5y69q"
      },
      "source": [
        "應⽤練習3: 剪⼑⽯頭布"
      ]
    },
    {
      "cell_type": "code",
      "metadata": {
        "id": "rReEaEaNAtQz"
      },
      "source": [
        "if my == (computer + 1) % 3:\n",
        "print(\"我贏了\")\n",
        "elif my == computer:\n",
        "print(\"平手\")\n",
        "else:\n",
        "print(\"我輸了\")"
      ],
      "execution_count": null,
      "outputs": []
    }
  ]
}