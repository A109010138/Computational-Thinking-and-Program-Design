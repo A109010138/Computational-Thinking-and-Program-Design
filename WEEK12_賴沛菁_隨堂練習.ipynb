{
  "nbformat": 4,
  "nbformat_minor": 0,
  "metadata": {
    "colab": {
      "name": "WEEK12_賴沛菁_隨堂練習.ipynb",
      "provenance": [],
      "authorship_tag": "ABX9TyPiNDjdywTxTNaX84P73r47",
      "include_colab_link": true
    },
    "kernelspec": {
      "name": "python3",
      "display_name": "Python 3"
    },
    "language_info": {
      "name": "python"
    }
  },
  "cells": [
    {
      "cell_type": "markdown",
      "metadata": {
        "id": "view-in-github",
        "colab_type": "text"
      },
      "source": [
        "<a href=\"https://colab.research.google.com/github/A109010138/Computational-Thinking-and-Program-Design/blob/main/WEEK12_%E8%B3%B4%E6%B2%9B%E8%8F%81_%E9%9A%A8%E5%A0%82%E7%B7%B4%E7%BF%92.ipynb\" target=\"_parent\"><img src=\"https://colab.research.google.com/assets/colab-badge.svg\" alt=\"Open In Colab\"/></a>"
      ]
    },
    {
      "cell_type": "code",
      "metadata": {
        "id": "fmth1nAwkBQI"
      },
      "source": [
        ""
      ],
      "execution_count": null,
      "outputs": []
    },
    {
      "cell_type": "code",
      "metadata": {
        "id": "TSN-skO5prDl"
      },
      "source": [
        "In [3]: ## 數字資料 （一）\n",
        "...: num = int(input(\"請輸入一個數字: \"))\n",
        "...: if num > 0:\n",
        "...: print(\"數字為正數\")\n",
        "...: print(\"比較完畢\")\n",
        "...: # 輸入5, 10, -3看結果\n",
        "請輸入一個數字: 5\n",
        "數字為正數\n",
        "比較完畢"
      ],
      "execution_count": null,
      "outputs": []
    },
    {
      "cell_type": "code",
      "metadata": {
        "colab": {
          "base_uri": "https://localhost:8080/"
        },
        "id": "ztsVE7t9pr_j",
        "outputId": "a2f82b66-488a-4fa3-eac3-5d94ba1d1007"
      },
      "source": [
        "num=5\n",
        "if num > 0:\n",
        "    print(\"The number is positive\")\n",
        "    print(\"Finish\")"
      ],
      "execution_count": 1,
      "outputs": [
        {
          "output_type": "stream",
          "text": [
            "The number is positive\n",
            "Finish\n"
          ],
          "name": "stdout"
        }
      ]
    },
    {
      "cell_type": "code",
      "metadata": {
        "id": "jeGty_4BqEDb"
      },
      "source": [
        "In [6]: ## 巢狀條件式\n",
        "...: num_a = int(input(\"輸入第一個數字？ \"))\n",
        "...: num_b = int(input(\"輸入第二個數字？ \"))\n",
        "...:\n",
        "...: if num_a < 0:\n",
        "...: print(\"第一個是負數\")\n",
        "...: if num_b < 0:\n",
        "...: print(\"第二個也是負數\")\n",
        "...: print(\"比較完成\")\n",
        "輸入第一個數字？ 5\n",
        "輸入第二個數字？ 8\n",
        "比較完成\n",
        "In [7]: ## 非巢狀結構\n",
        "...: num_a = int(input(\"輸入第一個數字？ \"))\n",
        "...: num_b = int(input(\"輸入第二個數字？ \"))\n",
        "...:\n",
        "...: if num_a < 0:\n",
        "...: print(\"第一個是負數\")\n",
        "...: if num_b < 0:\n",
        "...: print(\"第二個是負數\")\n",
        "...: print(\"比較完成\")\n",
        "輸入第一個數字？ 5\n",
        "輸入第二個數字？ 8\n",
        "比較完成\n",
        "## 加分:請舉例說明這兩個程式的執行結果何時會不同?"
      ],
      "execution_count": null,
      "outputs": []
    },
    {
      "cell_type": "code",
      "metadata": {
        "id": "UKtNFcNYtlxH"
      },
      "source": [
        "In [10]: ## 今晚吃義大利麵嗎？\n",
        "...: noodle = input(\"有麵嗎？ YES or NO: \")\n",
        "...: sauce = input(\"有醬料嗎？ YES or NO: \")\n",
        "...:\n",
        "...: ## 方法（一）\n",
        "...: if noodle==\"YES\" and sauce==\"YES\": # 真值表結果\n",
        "...: print(\"今天晚上吃義大利麵\")\n",
        "有麵嗎？ YES or NO: YES\n",
        "有醬料嗎？ YES or NO: YES\n",
        "今天晚上吃義大利麵\n",
        "In [11]: ## 方法（二）\n",
        "...: if noodle == \"YES\":\n",
        "...: if sauce == \"YES\":\n",
        "...: print(\"今天晚上吃義大利麵\")\n",
        "...:\n",
        "今天晚上吃義大利麵"
      ],
      "execution_count": null,
      "outputs": []
    },
    {
      "cell_type": "code",
      "metadata": {
        "id": "Dq1wgk5avbe9"
      },
      "source": [
        "In [1]: score = int(input('請輸入一個成績？'))\n",
        "...: if score >= 60:\n",
        "...: print('有及格ㄡ～')\n",
        "...: else:\n",
        "...: print('不及格ㄟ！')\n",
        "...:\n",
        "請輸入一個成績？88\n",
        "有及格ㄡ～"
      ],
      "execution_count": null,
      "outputs": []
    },
    {
      "cell_type": "code",
      "metadata": {
        "colab": {
          "base_uri": "https://localhost:8080/"
        },
        "id": "n4RGXyCpy6L_",
        "outputId": "5cff1701-c200-418d-b660-3777a90a5566"
      },
      "source": [
        "## 滿2000 打九折\n",
        "cost = int(input('請輸入購買金額? '))\n",
        "if cost >= 2000:\n",
        "    print(cost * 0.9)\n",
        "else:\n",
        "    print(cost)    "
      ],
      "execution_count": 2,
      "outputs": [
        {
          "output_type": "stream",
          "text": [
            "請輸入購買金額? 2500\n",
            "2250.0\n"
          ],
          "name": "stdout"
        }
      ]
    },
    {
      "cell_type": "code",
      "metadata": {
        "id": "ZoJzC_VV08ce"
      },
      "source": [
        "## 判斷奇偶數\n",
        "num = int(input('請輸入一個整數?'))\n",
        "if num % 2 == 0:   # 餘數為0是偶數\n",
        "   print(num, '為偶數')\n",
        "else:\n",
        "    print(num, '為奇數')"
      ],
      "execution_count": null,
      "outputs": []
    },
    {
      "cell_type": "code",
      "metadata": {
        "id": "dLafyazF1wPQ"
      },
      "source": [
        "## 判斷奇偶數\n",
        "num = int(input('請輸入一個整數?'))\n",
        "if num % 2 == 1:   # 餘數為1是奇數\n",
        "   print(num, '為奇數')\n",
        "else:\n",
        "    print(num, '為奇數')"
      ],
      "execution_count": null,
      "outputs": []
    }
  ]
}