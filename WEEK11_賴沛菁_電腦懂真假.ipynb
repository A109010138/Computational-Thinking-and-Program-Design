{
  "nbformat": 4,
  "nbformat_minor": 0,
  "metadata": {
    "colab": {
      "name": "WEEK11-賴沛菁-電腦懂真假.ipynb",
      "provenance": [],
      "authorship_tag": "ABX9TyOeKBniEP0YLQGNLICf5rNS",
      "include_colab_link": true
    },
    "kernelspec": {
      "name": "python3",
      "display_name": "Python 3"
    },
    "language_info": {
      "name": "python"
    }
  },
  "cells": [
    {
      "cell_type": "markdown",
      "metadata": {
        "id": "view-in-github",
        "colab_type": "text"
      },
      "source": [
        "<a href=\"https://colab.research.google.com/github/A109010138/Computational-Thinking-and-Program-Design/blob/main/WEEK11_%E8%B3%B4%E6%B2%9B%E8%8F%81_%E9%9B%BB%E8%85%A6%E6%87%82%E7%9C%9F%E5%81%87.ipynb\" target=\"_parent\"><img src=\"https://colab.research.google.com/assets/colab-badge.svg\" alt=\"Open In Colab\"/></a>"
      ]
    },
    {
      "cell_type": "code",
      "metadata": {
        "id": "MKysnVrorKaT"
      },
      "source": [
        ""
      ],
      "execution_count": null,
      "outputs": []
    },
    {
      "cell_type": "code",
      "metadata": {
        "id": "HpoGtmAqrZsv"
      },
      "source": [
        "In [1]: ## 布林只有 True 與 False 這兩個值。\n",
        "...: True\n",
        "...: False\n",
        "In [2]: ## 請注意大小寫不同\n",
        "...: true\n",
        "...: false\n",
        "...: TRUE\n",
        "...: FALSE\n",
        "Traceback (most recent call last):\n",
        "File \"<ipython-input-2-7729cf8819e0>\", line 6, in <module>\n",
        "true\n",
        "In [1]: ## 布林只有 True 與 False 這兩個值。\n",
        "...: True\n",
        "...: False\n",
        "In [2]: ## 請注意大小寫不同\n",
        "...: true\n",
        "...: false\n",
        "...: TRUE\n",
        "...: FALSE\n",
        "Traceback (most recent call last):\n",
        "File \"<ipython-input-2-7729cf8819e0>\", line 6, in <module>\n",
        "true"
      ],
      "execution_count": null,
      "outputs": []
    },
    {
      "cell_type": "code",
      "metadata": {
        "id": "U2xBax65rgMu"
      },
      "source": [
        ""
      ],
      "execution_count": null,
      "outputs": []
    },
    {
      "cell_type": "markdown",
      "metadata": {
        "id": "EQu-ycRhrnYx"
      },
      "source": [
        "隨堂練習:請輸入身分證字號，並判斷尾數是否為基數"
      ]
    },
    {
      "cell_type": "code",
      "metadata": {
        "id": "-rS2UTLdr2Ox"
      },
      "source": [
        "In [1]: ## 布林只有 True 與 False 這兩個值。\n",
        "...: True\n",
        "...: False\n",
        "In [2]: ## 請注意大小寫不同\n",
        "...: true\n",
        "...: false\n",
        "...: TRUE\n",
        "...: FALSE\n",
        "Traceback (most recent call last):\n",
        "File \"<ipython-input-2-7729cf8819e0>\", line 6, in <module>\n",
        "true"
      ],
      "execution_count": null,
      "outputs": []
    },
    {
      "cell_type": "markdown",
      "metadata": {
        "id": "wlaGUhaLsUwY"
      },
      "source": [
        "隨堂練習(Optional):請問\n",
        "(1)若x = \"Python\", y = \"Python\",則(x is y) 和 (x==y)的結果是True還是False?\n",
        "(2)若x = \"Python\", y = x,則(x is y) 和 (x==y)的結果是True還是False?\n",
        "(3) 二者答案為什麼一樣或不一樣?"
      ]
    },
    {
      "cell_type": "code",
      "metadata": {
        "id": "_xB9EjHZsV4g"
      },
      "source": [
        "## 觀念補充\n",
        "In [1]: ## 不可變物件的答案是True,位址相同\n",
        "...: x = \"Python\"\n",
        "...: y = \"Python\"\n",
        "...: print(id(x),id(y)) #x 與y 的位址相同\n",
        "...: print(x is y)\n",
        "...: print(x==y)\n",
        "2303372590448 2303372590448\n",
        "True\n",
        "True\n",
        "In [2]: x = \"Python\"\n",
        "...: y = x\n",
        "...: print(id(x),id(y)) #x 與y 的位址相同\n",
        "...: print(x is y)\n",
        "...: print(x==y)\n",
        "2303372590448 2303372590448\n",
        "True\n",
        "True\n",
        "In [3]: x = (1,2,3) # 在此是元組資料容器\n",
        "...: y = (1,2,3)\n",
        "...: print(id(x),id(y)) #x 與y 的位址相同\n",
        "...: print(x is y)\n",
        "...: print(x == y)\n",
        "2303537727296 2303537726912\n",
        "False\n",
        "True\n",
        "In [4]: ## 可變物件的答案是False,位址不同 # 在此是串列資料容器\n",
        "...: x = [1,2,3]\n",
        "...: y = [1,2,3]\n",
        "...: print(id(x),id(y)) #x 與y 的位址不同\n",
        "...: print(x is y) #x與y在電腦有不同的記憶空間,所以x是x、y是y。\n",
        "...: print(x == y) # x 與y 的值相等,True\n",
        "2303518072768 2303537884928\n",
        "False\n",
        "True\n",
        "In [5]: x = {1,2,3} #在此是集合資料容器\n",
        "...: y = {1,2,3}\n",
        "...: print(id(x),id(y)) #x 與y 的位址不同\n",
        "...: print(x is y) #x與y在電腦有不同的記憶空間,所以x是x、y是y。\n",
        "...: print(x == y) # x 與y 的值相等,True\n",
        "2303537879296 2303537878624\n",
        "False\n",
        "True"
      ],
      "execution_count": null,
      "outputs": []
    },
    {
      "cell_type": "code",
      "metadata": {
        "id": "wuDcJKFIte7X"
      },
      "source": [
        "## 三種邏輯運算子(一):且(and)\n",
        "In [1]: print(True and False) # 判斷 True 與 False 的交集\n",
        "...: print(True and True)\n",
        "...: print(False and False)\n",
        "...: print(False and True)\n",
        "...:\n",
        "False\n",
        "True\n",
        "False\n",
        "False\n",
        "## 三種邏輯運算子(二):或(or)\n",
        "In [2]: print(True or False) # 判斷 True 與 False 的聯集\n",
        "...: print(True or True)\n",
        "...: print(False or False)\n",
        "...: print(False or True)\n",
        "True\n",
        "True\n",
        "False\n",
        "True\n",
        "## 三種邏輯運算子(三):非(not)。\n",
        "In [3]: print(not True) # False\n",
        "...: print(not False) # True\n",
        "...: print(not(8 > 7)) # 反轉 8 是否大於 7 的判斷\n",
        "False\n",
        "True\n",
        "False"
      ],
      "execution_count": null,
      "outputs": []
    },
    {
      "cell_type": "code",
      "metadata": {
        "id": "dW-r4ww3sdeQ"
      },
      "source": [
        ""
      ],
      "execution_count": null,
      "outputs": []
    },
    {
      "cell_type": "markdown",
      "metadata": {
        "id": "mWIIkBtqw2U7"
      },
      "source": [
        "組長:賴沛菁\n",
        "組員:柯又甄A109010184 林珮瑜A109010156\n",
        "題目:心靈雞湯機器人"
      ]
    }
  ]
}