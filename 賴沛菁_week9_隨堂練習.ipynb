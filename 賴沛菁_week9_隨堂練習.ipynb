{
  "nbformat": 4,
  "nbformat_minor": 0,
  "metadata": {
    "colab": {
      "name": "賴沛菁_week9_隨堂練習.ipynb",
      "provenance": [],
      "authorship_tag": "ABX9TyMJOJpgMKUuWDfVFFeOGs/O",
      "include_colab_link": true
    },
    "kernelspec": {
      "name": "python3",
      "display_name": "Python 3"
    },
    "language_info": {
      "name": "python"
    }
  },
  "cells": [
    {
      "cell_type": "markdown",
      "metadata": {
        "id": "view-in-github",
        "colab_type": "text"
      },
      "source": [
        "<a href=\"https://colab.research.google.com/github/A109010138/Computational-Thinking-and-Program-Design/blob/main/%E8%B3%B4%E6%B2%9B%E8%8F%81_week9_%E9%9A%A8%E5%A0%82%E7%B7%B4%E7%BF%92.ipynb\" target=\"_parent\"><img src=\"https://colab.research.google.com/assets/colab-badge.svg\" alt=\"Open In Colab\"/></a>"
      ]
    },
    {
      "cell_type": "code",
      "metadata": {
        "id": "Lx9WGpSPbd8q"
      },
      "source": [
        ""
      ],
      "execution_count": null,
      "outputs": []
    },
    {
      "cell_type": "code",
      "metadata": {
        "colab": {
          "base_uri": "https://localhost:8080/",
          "height": 131
        },
        "id": "Frxy1XuLm1ka",
        "outputId": "9904074f-2648-4a1d-e2e3-9dc9c5d46b23"
      },
      "source": [
        "In [5]: # 將123分鐘轉成2小時3分鐘\n",
        "...: ## 1. 建立變數,輸入資料並儲存\n",
        "...: time = 123\n",
        "...:\n",
        "...: ## 2. 方法(一)\n",
        "...: ## 變數轉換為小時數\n",
        "...: hours = time/60 # 123/60 = 2.05\n",
        "...: hours1 = int(hours) #取整數為「時」\n",
        "...:\n",
        "...: ## 取得轉換後的分鐘數\n",
        "...: minutes = hours1 - hours #2.05-2 = 0.05\n",
        "...: minutes1 = round(minutes*60) # 0.05*60 = 3,但要四捨五入\n",
        "...:\n",
        "...: ## 3. 顯示結果\n",
        "...: print(time, \"is equal to\", hours1, \"Hours and\", minutes1,\"Minutes\")\n",
        "123 is equal to 2 Hours and -3 Minutes\n"
      ],
      "execution_count": 3,
      "outputs": [
        {
          "output_type": "error",
          "ename": "SyntaxError",
          "evalue": "ignored",
          "traceback": [
            "\u001b[0;36m  File \u001b[0;32m\"<ipython-input-3-e696197c3142>\"\u001b[0;36m, line \u001b[0;32m16\u001b[0m\n\u001b[0;31m    123 is equal to 2 Hours and -3 Minutes\u001b[0m\n\u001b[0m                  ^\u001b[0m\n\u001b[0;31mSyntaxError\u001b[0m\u001b[0;31m:\u001b[0m invalid syntax\n"
          ]
        }
      ]
    },
    {
      "cell_type": "code",
      "metadata": {
        "id": "ZwO2rfginn_x"
      },
      "source": [
        "In [6]: # 1. 建立變數,輸入資料並儲存\n",
        "...: time = 123\n",
        "...:\n",
        "...: # 2. 方法(二)運算子\n",
        "...: hours2 = time // 60 #商數為小時數\n",
        "...: minutes2 = time % 60 #餘數為分鐘數\n",
        "...:\n",
        "...: # 3. 顯示結果\n",
        "...: print(time, \"is equal to\", hours2, \"Hours and\", minutes2,\n",
        "\"Minutes\")\n",
        "123 is equal to 2 Hours and 3 Minutes"
      ],
      "execution_count": null,
      "outputs": []
    },
    {
      "cell_type": "code",
      "metadata": {
        "id": "hEUOx-j6pkg5"
      },
      "source": [
        "sum = 0\n",
        "sum = sum + (6*60 + 32)\n",
        "print(\"用時\",sum//60,\"分\",sum%60,sum%60,\"秒\")\n",
        "\n",
        "sum = sum + (7*60 + 21)\n",
        "print(\"用時\",sum//60,\"分\",sum%60,sum%60,\"秒\")\n",
        "\n",
        "sum = sum + (5*60 + 51)\n",
        "print(\"用時\",sum//60,\"分\",sum%60,sum%60,\"秒\")\n",
        "\n",
        "sum = sum + (7*60 + 3)\n",
        "print(\"用時\",sum//60,\"分\",sum%60,sum%60,\"秒\")\n",
        "\n",
        "sum = sum + (5*60 + 48)\n",
        "print(\"用時\",sum//60,\"分\",sum%60,sum%60,\"秒\")"
      ],
      "execution_count": null,
      "outputs": []
    },
    {
      "cell_type": "markdown",
      "metadata": {
        "id": "17uTbcNhtz96"
      },
      "source": [
        "範例說明：報告分組\n",
        "因為教學需求，全班40位同學要進⾏分組報告，每五位同學⼀組，老師規定依座號順序分組，也\n",
        "就是1號到5號⼀組，6號到10號⼀組，請寫⼀個程式允許使⽤者輸入座號，輸出分組的組別。\n"
      ]
    },
    {
      "cell_type": "code",
      "metadata": {
        "id": "FumzRdECqzUC"
      },
      "source": [
        "seats = int(input('請輸入座號？')) #文字轉數字\n",
        "groups = (seats - 1)//5 + 1\n",
        "print('組別為', groups)\n"
      ],
      "execution_count": null,
      "outputs": []
    },
    {
      "cell_type": "code",
      "metadata": {
        "id": "JbNWYRgkxuQM"
      },
      "source": [
        "In [1]: ## 1.聊天機器人自我介紹\n",
        "...: print(\"哈囉，大家好。我叫Zyxo64，是一個聊天機器人。\")\n",
        "...: hobby = \"我很喜歡美食東西，也喜歡養動物。今天很高興有機會來到世新大學，請大\n",
        "家多多指教。\"\n",
        "...: print( hobby )\n",
        "哈囉，大家好。我叫Zyxo64，是一個聊天機器人。\n",
        "我很喜歡美食東西，也喜歡養動物。今天很高興有機會來到世新大學，請大家多多指教。\n",
        "In [2]: ## 2. 打招呼，取得對方名字\n",
        "...: name = input(\"嗨！妳好，請問大名？: \")\n",
        "...: print(\"你好\", name, \"很高興認識你\")\n",
        "嗨！妳好，請問大名？: Francis\n",
        "你好 Francis 很高興認識你\n",
        "In [3]: ## 3. 數學運算\n",
        "...: ## 3-1 從使用者取得今年年份\n",
        "...: year = input(\"請問一下今年是西元2021年，那是民國幾年呢？ \")\n",
        "...: print(\"對！應該沒錯，謝謝妳！\")\n",
        "請問一下今年是西元2021年，那是民國幾年呢？ 110\n",
        "對！應該沒錯，謝謝妳！\n",
        "In [4]: ## 3-2 請使用者猜年齡\n",
        "...: myage = int(input(\"Francis，猜猜看我今年幾歲？ \"))\n",
        "...: print(\"哇！你好聰明，我今年的確\", myage)\n",
        "Francis，猜猜看我今年幾歲？ 18\n",
        "哇！你好聰明，我今年的確 18\n",
        "In [5]: ## 3-3 計算聊天機器人滿100歲的年份\n",
        "...: nyears = 100 - myage\n",
        "...: print(\"我再\", nyears, \"年就滿100歲了。\")\n",
        "...:\n",
        "...: print(\"到時候是西元\", int(year) + nyears + 1911, \"年\") # 將今年年份轉換\n",
        "為整數\n",
        "...: print(\"也就是民國\", int(year) + nyears, \"年\") # 民國幾年\n",
        "In [6]: ## 4 興趣\n",
        "...: ## 4-1 食物話題\n",
        "...: print(\"我喜歡巧克力，也喜歡嘗試各種新食物。\")\n",
        "...: food = input(\"你呢。你最喜歡的食物是什麼？： \")\n",
        "...: print(\"我也喜歡\", food)\n",
        "...: question = \"你多久吃一次\" + food + \"?: \"\n",
        "...: howoften = input(question)\n",
        "...: print(\"真有趣。不知道這樣對健康好不好！\")\n",
        "In [7]: ## 4-2 動物話題\n",
        "...: animal = input(\"我最喜歡的動物是長頸鹿。你呢？； \")\n",
        "...: print(\"我不喜歡\", animal)\n",
        "...: print(\"不知道\", animal, \"喜不喜歡吃\", food, \"?\")\n",
        "In [8]: ## 5. 關於心情的對話\n",
        "...: feeling = input(\"你今天心情如何？； \")\n",
        "...: print(\"可以告訴我，你\", feeling, \"的原因。 \")\n",
        "...: reason = input(\"為什麼： \")\n",
        "...: print(\"我知道了。謝謝分享。\")\n",
        "In [ 9]: ## 6. 道別\n",
        "...: print(\"祝你週末愉快！\")\n",
        "...: print(\"我喜歡跟你聊天，現在有點累了，下次再聊!!\")\n",
        "...: print(\"再見\", name, \"我喜歡跟你聊天！\")"
      ],
      "execution_count": null,
      "outputs": []
    }
  ]
}