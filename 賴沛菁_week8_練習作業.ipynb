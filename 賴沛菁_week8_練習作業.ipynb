{
  "nbformat": 4,
  "nbformat_minor": 0,
  "metadata": {
    "colab": {
      "name": "賴沛菁-week8-練習作業.ipynb",
      "provenance": [],
      "authorship_tag": "ABX9TyNuODk5/T1bvz6hwGO7cW75",
      "include_colab_link": true
    },
    "kernelspec": {
      "name": "python3",
      "display_name": "Python 3"
    },
    "language_info": {
      "name": "python"
    }
  },
  "cells": [
    {
      "cell_type": "markdown",
      "metadata": {
        "id": "view-in-github",
        "colab_type": "text"
      },
      "source": [
        "<a href=\"https://colab.research.google.com/github/A109010138/Computational-Thinking-and-Program-Design/blob/main/%E8%B3%B4%E6%B2%9B%E8%8F%81_week8_%E7%B7%B4%E7%BF%92%E4%BD%9C%E6%A5%AD.ipynb\" target=\"_parent\"><img src=\"https://colab.research.google.com/assets/colab-badge.svg\" alt=\"Open In Colab\"/></a>"
      ]
    },
    {
      "cell_type": "code",
      "metadata": {
        "id": "7ZCkdIp4bKcv"
      },
      "source": [
        ""
      ],
      "execution_count": null,
      "outputs": []
    },
    {
      "cell_type": "code",
      "metadata": {
        "colab": {
          "base_uri": "https://localhost:8080/"
        },
        "id": "5h2kyDmicD6q",
        "outputId": "fa2aa994-ee53-4f54-d22e-108920e273f9"
      },
      "source": [
        "## Input\n",
        "a = 13\n",
        "b = 11\n",
        "## Process\n",
        "t = a\n",
        "a = b\n",
        "b = t\n",
        "## Output\n",
        "print(\"a=\",a,\"b=\",b)\n"
      ],
      "execution_count": 1,
      "outputs": [
        {
          "output_type": "stream",
          "text": [
            "a= 11 b= 13\n"
          ],
          "name": "stdout"
        }
      ]
    },
    {
      "cell_type": "code",
      "metadata": {
        "colab": {
          "base_uri": "https://localhost:8080/"
        },
        "id": "uixXOq4qcsRz",
        "outputId": "db4bc26a-aa34-4e9c-ed1c-4288854309fe"
      },
      "source": [
        "## Input\n",
        "a,b,c,d,e,\n",
        "f = eval(input(\"Enter a number\"))\n",
        "\n",
        "## Process + Output\n",
        "a = a//3 ; b = b + a ; f = f + a\n",
        "print(f\"a = {a}, b = {b} c = {c} d = {d} e = {e} f = {f}\")\n",
        "\n",
        "b = b//3 ; a = a + b ; c = c + b\n",
        "print(f\"a = {a}, b = {b} c = {c} d = {d} e = {e} f = {f}\")\n",
        "\n",
        "c = c//3 ; b = b + c ; d = d + c\n",
        "print(f\"a = {a} b = {b} c = {c} d = {d} e = {e} f = {f}\")\n"
      ],
      "execution_count": 2,
      "outputs": [
        {
          "output_type": "stream",
          "text": [
            "Enter a number1,2,3,4,5,6\n",
            "a = 0, b = 2 c = 3 d = 4 e = 5 f = 6\n",
            "a = 0, b = 0 c = 3 d = 4 e = 5 f = 6\n",
            "a = 0 b = 1 c = 1 d = 5 e = 5 f = 6\n"
          ],
          "name": "stdout"
        }
      ]
    },
    {
      "cell_type": "markdown",
      "metadata": {
        "id": "onSvIkJMkY04"
      },
      "source": [
        "範例練習4-4: 服裝訂購系統\n",
        "假設上衣300元、褲子350元與背心400元,使用者可以自行輸入三種服裝的數量,請設計一個程\n",
        "式計算訂購服裝的總金額。"
      ]
    },
    {
      "cell_type": "code",
      "metadata": {
        "colab": {
          "base_uri": "https://localhost:8080/",
          "height": 131
        },
        "id": "OJjzE1cMkbGg",
        "outputId": "360164e2-c1ca-4a52-e257-7dbae38c680e"
      },
      "source": [
        "In [1]: ## Total = P1*Q1 + P2*Q2 + P3*Q3\n",
        "...: ## Input Data\n",
        "...: cloth = int(input('請輸入上衣數量？'))\n",
        "...: trousers = int(input('請輸入褲子數量？'))\n",
        "...: vest = int(input('請輸入背心數量？'))\n",
        "...: ## Process\n",
        "...: total = cloth*300 + trousers*350 + vest*400\n",
        "...: ## Output\n",
        "...: print('訂購服裝的總金額為', total)\n",
        "\n",
        "請輸入上衣數量? 10\n",
        "\n",
        "請輸入褲子數量? 8\n",
        "\n",
        "請輸入背心數量? 5\n",
        "訂購服裝的總金額為 7800"
      ],
      "execution_count": 4,
      "outputs": [
        {
          "output_type": "error",
          "ename": "SyntaxError",
          "evalue": "ignored",
          "traceback": [
            "\u001b[0;36m  File \u001b[0;32m\"<ipython-input-4-31a1c070f3a2>\"\u001b[0;36m, line \u001b[0;32m11\u001b[0m\n\u001b[0;31m    請輸入上衣數量? 10\u001b[0m\n\u001b[0m           ^\u001b[0m\n\u001b[0;31mSyntaxError\u001b[0m\u001b[0;31m:\u001b[0m invalid syntax\n"
          ]
        }
      ]
    },
    {
      "cell_type": "markdown",
      "metadata": {
        "id": "hUlOiNyXljMJ"
      },
      "source": [
        "範例練習4-5: 賣場買飲料\n",
        "為了刺激銷售量,賣場通常買一打會比買一罐便宜,假設一罐賣20元,一打賣200元,請設計一\n",
        "個程式計算買幾罐需花多少錢,若不足一打就個別買。\n",
        "~預覽結果\n",
        "輸入購買飲料的罐數,如「30」,計算結果顯示在螢幕如下。\n",
        "請輸入購買飲料的罐數?30\n",
        "需花費 520"
      ]
    },
    {
      "cell_type": "code",
      "metadata": {
        "id": "zu3bqaYKkR6R"
      },
      "source": [
        "In [1]: ## Total = 200 * 幾打 + 20 * 罐\n",
        "...: ## Input Data\n",
        "...: cans = int(input('請輸入購買飲料的罐數?')) #數字轉文字\n",
        "...: ## Process\n",
        "...: total = (cans//12)*200 + (cans%12)*20\n",
        "...: ## Output\n",
        "...: print('需花費', total)\n",
        "請輸入購買飲料的罐數?124\n",
        "需花費 2080"
      ],
      "execution_count": null,
      "outputs": []
    },
    {
      "cell_type": "markdown",
      "metadata": {
        "id": "SdMWSrq9lvjB"
      },
      "source": [
        "**範例練習4-6:求三數總和與平均**\n",
        "求第一次期中考、第二次期中考與期末考成績,成績皆為整數,請計算分數的加總與平均。\n",
        "~預覽結果\n",
        "第一次期中考輸入「75」,第二次期中考輸入「80」,期末考輸入「65」,計算結果顯示在螢\n",
        "幕。\n",
        "請輸入第一次期中考成績?75\n",
        "請輸入第二次期中考成績?80\n",
        "請輸入期末考成績?65\n",
        "總分為 220 平均為 73.33333333333333"
      ]
    },
    {
      "cell_type": "code",
      "metadata": {
        "colab": {
          "base_uri": "https://localhost:8080/"
        },
        "id": "uK77slz_l21e",
        "outputId": "e53b868e-d9a3-4de0-9b96-7ec22b4634ba"
      },
      "source": [
        "## 求三數總和與平均\n",
        "## Input\n",
        "x,y,z = eval(input(\"Enter your score\" ))\n",
        "\n",
        "## Process\n",
        "Sum = x + y + z\n",
        "Average = Sum /3\n",
        "\n",
        "## Output\n",
        "print(f\"score sum is {Sum} and average score is{Average}.\") "
      ],
      "execution_count": 7,
      "outputs": [
        {
          "output_type": "stream",
          "text": [
            "Enter your score88,77,66\n",
            "score sum is 231 and average score is77.0.\n"
          ],
          "name": "stdout"
        }
      ]
    },
    {
      "cell_type": "markdown",
      "metadata": {
        "id": "BQhKw9BynGwa"
      },
      "source": [
        "隨堂練習: 請計算NBA 史上最偉大的中鋒之一,「柴油引擎」俠客歐尼爾(Shaquille\n",
        "O’Neal)巔峰時期的BMI。當時他的身高(216cm)與體重(147kg),而其所對應的身體質量指數\n",
        "公式為BMI = 公斤 / 公尺平方。"
      ]
    },
    {
      "cell_type": "code",
      "metadata": {
        "id": "aSPv7PVWnSuY"
      },
      "source": [
        "In [1]: player_name = input(\"請輸入球員姓名:\")\n",
        "...: player_height = input(\"請輸入球員身高(cm):\")\n",
        "...: player_weight = input(\"請輸入球員體重(kg):\")\n",
        "...:\n",
        "...: player_height = float(player_height)\n",
        "...: player_weight = float(player_weight)\n",
        "...: player_bmi = player_weight/(player_height*0.01)**2\n",
        "...:\n",
        "...: print(\"{}的身體質量指數為:{:.2f}\".format(player_name, player_bmi))\n",
        "...: print(player_name,'的身體質量指數為', player_bmi )\n",
        "請輸入球員姓名:Shaquille O’Neal\n",
        "請輸入球員身高(cm):216\n",
        "請輸入球員體重(kg):147\n",
        "Shaquille O’Neal的身體質量指數為:31.51\n",
        "Shaquille O’Neal 的身體質量指數為 31.507201646090532"
      ],
      "execution_count": null,
      "outputs": []
    }
  ]
}