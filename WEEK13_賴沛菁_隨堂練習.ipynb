{
  "nbformat": 4,
  "nbformat_minor": 0,
  "metadata": {
    "colab": {
      "name": "WEEK13-賴沛菁-隨堂練習.ipynb",
      "provenance": [],
      "authorship_tag": "ABX9TyMF5lZrvPo3lj2Ma1BT9FgT",
      "include_colab_link": true
    },
    "kernelspec": {
      "name": "python3",
      "display_name": "Python 3"
    },
    "language_info": {
      "name": "python"
    }
  },
  "cells": [
    {
      "cell_type": "markdown",
      "metadata": {
        "id": "view-in-github",
        "colab_type": "text"
      },
      "source": [
        "<a href=\"https://colab.research.google.com/github/A109010138/Computational-Thinking-and-Program-Design/blob/main/WEEK13_%E8%B3%B4%E6%B2%9B%E8%8F%81_%E9%9A%A8%E5%A0%82%E7%B7%B4%E7%BF%92.ipynb\" target=\"_parent\"><img src=\"https://colab.research.google.com/assets/colab-badge.svg\" alt=\"Open In Colab\"/></a>"
      ]
    },
    {
      "cell_type": "code",
      "metadata": {
        "id": "Z-5SFIQwyVsI"
      },
      "source": [
        "練習7. Think Like a Computer Scientist 如果輸入的num為20, 9, 5,和0，請用你的邏輯直接告訴我，下面兩組程式結果與差異:"
      ],
      "execution_count": null,
      "outputs": []
    },
    {
      "cell_type": "code",
      "metadata": {
        "id": "YW_AxJXgydNC"
      },
      "source": [
        "## 方法（二）：if-elif-else敘述\n",
        "\n",
        "if num < 6:\n",
        "    print(\"number is less than 6.\")\n",
        "elif num < 10:\n",
        "    print(\"number is less than 10.\")\n",
        "elif num > 3:\n",
        "    print(\"number is greater than 3.\")\n",
        "else:\n",
        "    print(\"No relation is found.\")\n",
        "print(\"Finished.\")"
      ],
      "execution_count": null,
      "outputs": []
    },
    {
      "cell_type": "markdown",
      "metadata": {
        "id": "GxOBMRwK1-Bt"
      },
      "source": [
        ""
      ]
    },
    {
      "cell_type": "code",
      "metadata": {
        "id": "MXodEnZL2VD7"
      },
      "source": [
        ""
      ],
      "execution_count": null,
      "outputs": []
    },
    {
      "cell_type": "markdown",
      "metadata": {
        "id": "Y7tWYpgqyxy4"
      },
      "source": [
        "#### 範例 : 郵資計算\n",
        "\n",
        "某快遞公司以重量為計算郵資的依據，重量與郵資計算如下表，請寫一個程式協助快遞人員計算郵資，快遞人員只要輸入重量，程式自動計算郵資。\n",
        "\n",
        "若重量小於等於5 公斤，則顯示「50」，否則若重量小於等於10 公斤，則顯示「70」，若重量小於等於15 公斤，則顯示「90」，若重量小於等於20 公斤，則顯示「110」，否則顯示「超過20 公斤無法寄送」。"
      ]
    },
    {
      "cell_type": "code",
      "metadata": {
        "colab": {
          "base_uri": "https://localhost:8080/",
          "height": 133
        },
        "id": "NllQtUZs2YlM",
        "outputId": "83dd2405-6701-4e20-a871-4502bbe31cec"
      },
      "source": [
        "## 郵資計算\n",
        "...: w = float(input('請輸入物品重量?')) # Input\n",
        "...:\n",
        "...: if w <= 5:\n",
        "...: print('所需郵資為50元')\n",
        "...: elif w <= 10:\n",
        "...: print('所需郵資為70元')\n",
        "...: elif w <= 15:\n",
        "...: print('所需郵資為90元')\n",
        "...: elif w <= 20:\n",
        "...: print('所需郵資為110元')\n",
        "...: else:\n",
        "...: print('超過20公斤無法寄送')## 郵資計算\n",
        "...: "
      ],
      "execution_count": 2,
      "outputs": [
        {
          "output_type": "error",
          "ename": "IndentationError",
          "evalue": "ignored",
          "traceback": [
            "\u001b[0;36m  File \u001b[0;32m\"<ipython-input-2-e9fc0741fee7>\"\u001b[0;36m, line \u001b[0;32m5\u001b[0m\n\u001b[0;31m    print('所需郵資為50元')\u001b[0m\n\u001b[0m        ^\u001b[0m\n\u001b[0;31mIndentationError\u001b[0m\u001b[0;31m:\u001b[0m expected an indented block\n"
          ]
        }
      ]
    },
    {
      "cell_type": "markdown",
      "metadata": {
        "id": "vvgfl0Pmy3WO"
      },
      "source": [
        "隨堂練習： BMI 計算\n",
        "請寫一個程式讓使用者輸入身高與體重，顯示BMI 值與肥胖程度。 BMI 等於體重（KG）除以身高（M）的平方，而BMI 與肥胖分類標準如下：\n",
        "\n",
        "若BMI 值小於18，則顯示「體重過輕」，否則若BMI 值小於24，則顯示「體重正常」，若BMI 值小於27，則顯示「體重過重」，否則顯示「體重肥胖」。"
      ]
    },
    {
      "cell_type": "code",
      "metadata": {
        "colab": {
          "base_uri": "https://localhost:8080/",
          "height": 133
        },
        "id": "wL73xiEg5tvy",
        "outputId": "c17b2476-d3f0-4754-8b20-810db8a49dc3"
      },
      "source": [
        "##輸入身高體重資訊，計算BMI。\n",
        "w = float(input('請輸入體重(KG)?')) # Input\n",
        "h = float(input('請輸入體重(M)?'))\n",
        "bmi = w/(h*h)\n",
        "print('BMI為'，bmi)\n",
        "if bmi < 18:\n",
        "    print('體重過輕')\n",
        "elif bmi < 24:\n",
        "    print('體重正常')\n",
        "elif bmi < 27:\n",
        "    print('體重過重')\n",
        "else:\n",
        "    print('體重肥胖')"
      ],
      "execution_count": 3,
      "outputs": [
        {
          "output_type": "error",
          "ename": "SyntaxError",
          "evalue": "ignored",
          "traceback": [
            "\u001b[0;36m  File \u001b[0;32m\"<ipython-input-3-07d0c0b75c29>\"\u001b[0;36m, line \u001b[0;32m5\u001b[0m\n\u001b[0;31m    print('BMI為'，bmi)\u001b[0m\n\u001b[0m                   ^\u001b[0m\n\u001b[0;31mSyntaxError\u001b[0m\u001b[0;31m:\u001b[0m invalid character in identifier\n"
          ]
        }
      ]
    },
    {
      "cell_type": "markdown",
      "metadata": {
        "id": "Yw_aSM4W5wX3"
      },
      "source": [
        "範例:猜數字遊戲"
      ]
    },
    {
      "cell_type": "code",
      "metadata": {
        "id": "ivbfizkd7hdq"
      },
      "source": [
        "## Guess the number.\n",
        "## 兩個雙向選擇\n",
        "secret_number = 83\n",
        "n = input(\"Guess a number between 1 and 100: \")\n",
        "n = int(n) # 文字轉數字\n",
        "if n == secret_number:\n",
        "    print(\"Guess Right!\")\n",
        "else: # 猜錯則檢查太高或太低\n",
        "if n > secrete_number:\n",
        "print(\"Guess lower!\") # 太高要往低猜\n",
        "else:\n",
        "print(\"Guess higher\") # 太低要往高猜\n",
        "print(\"Thank you for joining the game!\")"
      ],
      "execution_count": null,
      "outputs": []
    },
    {
      "cell_type": "code",
      "metadata": {
        "colab": {
          "base_uri": "https://localhost:8080/",
          "height": 133
        },
        "id": "Kp3gL3Oh79Ui",
        "outputId": "5f30aa06-c02e-4a4f-85d2-50fc0fcc10cb"
      },
      "source": [
        "## 方法(一):單向選擇\n",
        "...: score = int(input('請輸入一個成績?'))\n",
        "...: if score >= 80:\n",
        "...: print('非常好')\n",
        "...: if 80 > score >= 60: # 前面要有80>才行\n",
        "...: print('不錯喔')\n",
        "...: if score < 60:\n",
        "...: print('要加油')"
      ],
      "execution_count": 5,
      "outputs": [
        {
          "output_type": "error",
          "ename": "IndentationError",
          "evalue": "ignored",
          "traceback": [
            "\u001b[0;36m  File \u001b[0;32m\"<ipython-input-5-f7bd9bfe2e7d>\"\u001b[0;36m, line \u001b[0;32m4\u001b[0m\n\u001b[0;31m    print('非常好')\u001b[0m\n\u001b[0m        ^\u001b[0m\n\u001b[0;31mIndentationError\u001b[0m\u001b[0;31m:\u001b[0m expected an indented block\n"
          ]
        }
      ]
    },
    {
      "cell_type": "code",
      "metadata": {
        "id": "OrzGQYLH8Wd4"
      },
      "source": [
        "## 方法(二):多向選擇\n",
        "...: score = int(input('請輸入一個成績?'))\n",
        "...: if score >= 80:\n",
        "...: print('非常好')\n",
        "...: elif score >= 60: # 前面不用有80>\n",
        "...: print('不錯喔')\n",
        "...: else:\n",
        "...: print('要加油')"
      ],
      "execution_count": null,
      "outputs": []
    },
    {
      "cell_type": "code",
      "metadata": {
        "id": "6iGD7X_E8i7A"
      },
      "source": [
        "## 方法(三):雙向選擇+巢狀選擇\n",
        "...: score = int(input('請輸入一個成績?'))\n",
        "...: if score >= 80:\n",
        "...: print('非常好')\n",
        "...: else:\n",
        "...: if score >= 60:\n",
        "...: print('不錯喔')\n",
        "...: else:\n",
        "...: print('要加油')"
      ],
      "execution_count": null,
      "outputs": []
    },
    {
      "cell_type": "markdown",
      "metadata": {
        "id": "KIbLIWjC7zzX"
      },
      "source": [
        ""
      ]
    }
  ]
}